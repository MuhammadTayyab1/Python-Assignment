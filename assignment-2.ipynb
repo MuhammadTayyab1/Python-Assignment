{
 "cells": [
  {
   "cell_type": "code",
   "execution_count": 14,
   "metadata": {},
   "outputs": [
    {
     "name": "stdout",
     "output_type": "stream",
     "text": [
      "Enter marks of english = 90\n",
      "Enter marks of Python = 99\n",
      "Enter marks of Javascript = 87\n",
      "Enter marks of OOP = 88\n",
      "Enter marks of data structure = 89\n",
      "Percentage =  90.6  % \n",
      "A Grade\n"
     ]
    }
   ],
   "source": [
    "# 1. Write a program which takes 5 inputs from user for different subject’s\n",
    "# marks, total it and generate mark sheet using grades ?\n",
    "\n",
    "e=int(input(\"Enter marks of english = \"))\n",
    "p=int(input(\"Enter marks of Python = \"))\n",
    "j=int(input(\"Enter marks of Javascript = \"))\n",
    "oop=int(input(\"Enter marks of OOP = \"))\n",
    "ds=int(input(\"Enter marks of data structure = \"))\n",
    "\n",
    "sum= e+p+j+oop+ds\n",
    "percent= (sum*100)/500\n",
    "print(\"Percentage = \",percent,\" % \")\n",
    "\n",
    "if percent >= 80 and percent <=100:\n",
    "    print(\"A Grade\")\n",
    "elif percent >= 70 and percent < 80:\n",
    "    print(\"B Grade\")\n",
    "elif percent >=60 and percent < 70:\n",
    "    print(\"C Grade\")\n",
    "elif percent >=0 and percent <60:\n",
    "    print(\"Fail\")\n",
    "else:\n",
    "    print(\"Wrong input try again\")\n"
   ]
  },
  {
   "cell_type": "code",
   "execution_count": 4,
   "metadata": {},
   "outputs": [
    {
     "name": "stdout",
     "output_type": "stream",
     "text": [
      "Enter number : 8\n",
      "Even\n"
     ]
    }
   ],
   "source": [
    "# 2. Write a program which take input from user and identify that the given number is even or odd?\n",
    "\n",
    "num=int(input(\"Enter number : \"))\n",
    "\n",
    "if num%2==0:\n",
    "    print(\"Even\")\n",
    "else:\n",
    "    print(\"odd\")"
   ]
  },
  {
   "cell_type": "code",
   "execution_count": 6,
   "metadata": {},
   "outputs": [
    {
     "name": "stdout",
     "output_type": "stream",
     "text": [
      "10\n"
     ]
    }
   ],
   "source": [
    "# 3. Write a program which print the length of the list?\n",
    "\n",
    "li=[90,98,76,56,78,45,23,12,45,78]\n",
    "\n",
    "print(len(li))"
   ]
  },
  {
   "cell_type": "code",
   "execution_count": 8,
   "metadata": {},
   "outputs": [
    {
     "name": "stdout",
     "output_type": "stream",
     "text": [
      "Sum =  601\n"
     ]
    }
   ],
   "source": [
    "# 4. Write a Python program to sum all the numeric items in a list?\n",
    "\n",
    "li=[90,98,76,56,78,45,23,12,45,78]\n",
    "sum=0\n",
    "\n",
    "for i in range(len(li)):\n",
    "    sum+=li[i]\n",
    "    \n",
    "print(\"Sum = \",sum)\n",
    "    "
   ]
  },
  {
   "cell_type": "code",
   "execution_count": 10,
   "metadata": {},
   "outputs": [
    {
     "name": "stdout",
     "output_type": "stream",
     "text": [
      "98\n"
     ]
    }
   ],
   "source": [
    "# 5. Write a Python program to get the largest number from a numeric list.\n",
    "\n",
    "li=[90,98,76,56,79,45,23,12,45,78]\n",
    "max=-10000\n",
    "\n",
    "for i in range(len(li)):\n",
    "    if max<li[i]:\n",
    "        max=li[i]\n",
    "        \n",
    "print(max)\n",
    "    \n"
   ]
  },
  {
   "cell_type": "code",
   "execution_count": 11,
   "metadata": {},
   "outputs": [
    {
     "name": "stdout",
     "output_type": "stream",
     "text": [
      "1\n",
      "1\n",
      "2\n",
      "3\n"
     ]
    }
   ],
   "source": [
    "# 6. Take a list, say for example this one:\n",
    "# a = [1, 1, 2, 3, 5, 8, 13, 21, 34, 55, 89]\n",
    "# and write a program that prints out all the elements of the list that are\n",
    "# less than 5.\n",
    "\n",
    "a = [1, 1, 2, 3, 5, 8, 13, 21, 34, 55, 89]\n",
    "\n",
    "for i in range(len(a)):\n",
    "    if a[i] < 5:\n",
    "        print(a[i])\n",
    "\n"
   ]
  },
  {
   "cell_type": "code",
   "execution_count": null,
   "metadata": {},
   "outputs": [],
   "source": []
  }
 ],
 "metadata": {
  "kernelspec": {
   "display_name": "Python 3",
   "language": "python",
   "name": "python3"
  },
  "language_info": {
   "codemirror_mode": {
    "name": "ipython",
    "version": 3
   },
   "file_extension": ".py",
   "mimetype": "text/x-python",
   "name": "python",
   "nbconvert_exporter": "python",
   "pygments_lexer": "ipython3",
   "version": "3.7.3"
  }
 },
 "nbformat": 4,
 "nbformat_minor": 2
}
