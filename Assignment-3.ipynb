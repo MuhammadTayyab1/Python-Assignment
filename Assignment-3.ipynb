{
 "cells": [
  {
   "cell_type": "code",
   "execution_count": 1,
   "metadata": {},
   "outputs": [
    {
     "name": "stdout",
     "output_type": "stream",
     "text": [
      "Press 1 for addition\n",
      "2 for subtraction\n",
      " 3 for multiplication\n",
      "4 for division\n",
      "5 for power.\n",
      "5\n",
      "Num 1 = 2\n",
      "Num 2 = 4\n",
      "16\n"
     ]
    }
   ],
   "source": [
    "# 1. Make a calculator using Python with addition , subtraction , multiplication , division and power.\n",
    "\n",
    "try:\n",
    "\n",
    "    print(\"Press 1 for addition\\n2 for subtraction\\n 3 for multiplication\\n4 for division\\n5 for power.\")\n",
    "    op=int(input(\"\"))\n",
    "\n",
    "    num1=int(input(\"Num 1 = \"))\n",
    "    num2=int(input(\"Num 2 = \"))\n",
    "\n",
    "    \n",
    "\n",
    "    if op==1:\n",
    "        print(num1+num2)\n",
    "\n",
    "    elif  op==2:\n",
    "        print(num1-num2)\n",
    "\n",
    "    elif op==3:\n",
    "        print(num1*num2)\n",
    "\n",
    "    elif op==4:\n",
    "        print(num1/num2)\n",
    "\n",
    "    elif op==5:\n",
    "        print(num1**num2)\n",
    "\n",
    "except:\n",
    "    print(\"Try to divide by zero\")"
   ]
  },
  {
   "cell_type": "code",
   "execution_count": 2,
   "metadata": {},
   "outputs": [
    {
     "name": "stdout",
     "output_type": "stream",
     "text": [
      "a  Is not numeric val\n",
      "2  Is numeric value\n",
      "4  Is numeric value\n",
      "w  Is not numeric val\n",
      "5  Is numeric value\n",
      "3  Is numeric value\n",
      "b  Is not numeric val\n",
      "9  Is numeric value\n",
      "p  Is not numeric val\n"
     ]
    }
   ],
   "source": [
    "# 2. Write a program to check if there is any numeric value in list using for loop\n",
    "\n",
    "arr=[\"a\",2,4,\"w\",5,3,\"b\",\"9\",\"p\"]\n",
    "\n",
    "\n",
    "\n",
    "for i in range(len(arr)):\n",
    "    try:\n",
    "        print(int(arr[i]),\" Is numeric value\")\n",
    "    except:\n",
    "        print(arr[i],\" Is not numeric val\")"
   ]
  },
  {
   "cell_type": "code",
   "execution_count": 3,
   "metadata": {},
   "outputs": [
    {
     "name": "stdout",
     "output_type": "stream",
     "text": [
      "{'name': 'Ali', 'age': '24', 'location': 'Karachi', 'country': 'Pakistan'}\n"
     ]
    }
   ],
   "source": [
    "# 3. Write a Python script to add a key to a dictionary\n",
    "\n",
    "student={\n",
    "    \"name\":\"Ali\",\n",
    "    \"age\":\"24\",\n",
    "    \"location\":\"Karachi\"\n",
    "}\n",
    "student['country'] = 'Pakistan'\n",
    "\n",
    "print(student)"
   ]
  },
  {
   "cell_type": "code",
   "execution_count": 5,
   "metadata": {},
   "outputs": [
    {
     "name": "stdout",
     "output_type": "stream",
     "text": [
      "87\n"
     ]
    }
   ],
   "source": [
    "# 4. Write a Python program to sum all the numeric items in a dictionary\n",
    "\n",
    "sum=0\n",
    "numbers = {'key1': 1,'key2': 20,'key3': 47,'key4': \"a\",'key5': \"19\",'key6': \"z\"}\n",
    "\n",
    "for i in numbers:\n",
    "    try:\n",
    "        sum+=int(numbers[i])\n",
    "    except:\n",
    "        pass\n",
    "\n",
    "print(sum)"
   ]
  },
  {
   "cell_type": "code",
   "execution_count": 6,
   "metadata": {},
   "outputs": [
    {
     "name": "stdout",
     "output_type": "stream",
     "text": [
      "7  is duplicate \n",
      "3  is duplicate \n",
      "4  is duplicate \n",
      "5  is duplicate \n"
     ]
    }
   ],
   "source": [
    "# 5. Write a program to identify duplicate values from list\n",
    "\n",
    "li=[7,3,4,5,9,8,2,7,6,5,4,1,3,]\n",
    "\n",
    "for i in range(len(li)):\n",
    "    num=li[i]\n",
    "    for j in range(i,len(li)-1):\n",
    "        if num==li[j+1]:\n",
    "            print(num, \" is duplicate \")\n",
    "            break"
   ]
  },
  {
   "cell_type": "code",
   "execution_count": 7,
   "metadata": {},
   "outputs": [
    {
     "name": "stdout",
     "output_type": "stream",
     "text": [
      "Enter key = age\n",
      "Already exit\n"
     ]
    }
   ],
   "source": [
    "# 6. Write a Python script to check if a given key already exists in a dictionary\n",
    "\n",
    "student={\n",
    "    \"name\":\"Ali\",\n",
    "    \"age\":\"24\",\n",
    "    \"location\":\"Karachi\"\n",
    "}\n",
    "\n",
    "user=input(\"Enter key = \")\n",
    "\n",
    "for i in student:\n",
    "    if i==user:\n",
    "        print(\"Already exit\")"
   ]
  },
  {
   "cell_type": "code",
   "execution_count": null,
   "metadata": {},
   "outputs": [],
   "source": []
  }
 ],
 "metadata": {
  "kernelspec": {
   "display_name": "Python 3",
   "language": "python",
   "name": "python3"
  },
  "language_info": {
   "codemirror_mode": {
    "name": "ipython",
    "version": 3
   },
   "file_extension": ".py",
   "mimetype": "text/x-python",
   "name": "python",
   "nbconvert_exporter": "python",
   "pygments_lexer": "ipython3",
   "version": "3.7.3"
  }
 },
 "nbformat": 4,
 "nbformat_minor": 2
}
